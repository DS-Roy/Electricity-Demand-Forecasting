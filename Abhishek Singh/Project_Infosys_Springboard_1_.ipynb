{
  "cells": [
    {
      "cell_type": "code",
      "execution_count": null,
      "metadata": {
        "id": "DRZZlMCYx-g6"
      },
      "outputs": [],
      "source": [
        "# IMPORT DATASET"
      ]
    },
    {
      "cell_type": "code",
      "execution_count": null,
      "metadata": {
        "id": "ciTr7B92zawS"
      },
      "outputs": [],
      "source": [
        "import pandas as pd\n",
        "energy = '/content/energy_dataset.xlsx'\n",
        "weather = '/content/weather_features.xlsx'\n",
        "\n",
        "energy_df = pd.read_excel(energy)\n",
        "weather_df = pd.read_excel(weather)"
      ]
    },
    {
      "cell_type": "code",
      "execution_count": null,
      "metadata": {
        "id": "xRWC2PwY8dyc"
      },
      "outputs": [],
      "source": [
        "# AGGREGATION"
      ]
    },
    {
      "cell_type": "code",
      "execution_count": null,
      "metadata": {
        "id": "XBgsEwlszngj"
      },
      "outputs": [],
      "source": [
        "weather_df = weather_df.groupby('dt_iso').agg({\n",
        "    'temp':'mean',\n",
        "    'temp_min':'mean',\n",
        "    'temp_max':'mean',\n",
        "    'humidity':'mean',\n",
        "    'wind_speed':'mean',\n",
        "    'pressure':'mean',\n",
        "    'rain_1h':'mean',\n",
        "    'rain_3h':'mean',\n",
        "    'snow_3h':'mean',\n",
        "    'clouds_all':'mean',\n",
        "    'wind_deg':'mean',\n",
        "    'weather_id':lambda x: x.mode()[0] if not x.empty else None,\n",
        "    'weather_main':lambda x: x.mode()[0] if not x.empty else None, # Use a lambda function to apply mode to each group\n",
        "    'weather_description':lambda x: x.mode()[0] if not x.empty else None, # Use a lambda function to apply mode to each group\n",
        "    'weather_icon':lambda x: x.mode()[0] if not x.empty else None # Use a lambda function to apply mode to each group\n",
        "}).reset_index()"
      ]
    },
    {
      "cell_type": "code",
      "execution_count": null,
      "metadata": {
        "id": "sYp3N-8x9AJe"
      },
      "outputs": [],
      "source": [
        "# MERGING THE DATASET"
      ]
    },
    {
      "cell_type": "code",
      "execution_count": null,
      "metadata": {
        "id": "5iwIi3pc08vP"
      },
      "outputs": [],
      "source": [
        "df = pd.merge(energy_df, weather_df, left_on='dt_iso', right_on='dt_iso')\n",
        "df.drop(columns=['generation fossil coal-derived gas', 'generation fossil oil shale', 'generation fossil peat', 'generation geothermal', 'generation wind offshore', 'forecast wind offshore eday ahead', 'generation marine', 'generation hydro pumped storage aggregated'],inplace=True)"
      ]
    },
    {
      "cell_type": "code",
      "execution_count": null,
      "metadata": {
        "id": "DPGWLh091Hpg"
      },
      "outputs": [],
      "source": [
        "# FILL THE MISSING VALUES\n",
        "\n",
        "df_ffill = df.fillna(method='ffill',inplace=True)"
      ]
    },
    {
      "cell_type": "code",
      "execution_count": null,
      "metadata": {
        "colab": {
          "base_uri": "https://localhost:8080/"
        },
        "id": "bztghVOp1RjG",
        "outputId": "27326b16-1446-4a77-de88-7ec8d4da371e"
      },
      "outputs": [
        {
          "data": {
            "text/plain": [
              "dt_iso                                         0\n",
              "generation biomass                             0\n",
              "generation fossil brown coal/lignite           0\n",
              "generation fossil gas                          0\n",
              "generation fossil hard coal                    0\n",
              "generation fossil oil                          0\n",
              "generation hydro pumped storage consumption    0\n",
              "generation hydro run-of-river and poundage     0\n",
              "generation hydro water reservoir               0\n",
              "generation nuclear                             0\n",
              "generation other                               0\n",
              "generation other renewable                     0\n",
              "generation solar                               0\n",
              "generation waste                               0\n",
              "generation wind onshore                        0\n",
              "forecast solar day ahead                       0\n",
              "forecast wind onshore day ahead                0\n",
              "total load forecast                            0\n",
              "total load actual                              0\n",
              "price day ahead                                0\n",
              "price actual                                   0\n",
              "temp                                           0\n",
              "temp_min                                       0\n",
              "temp_max                                       0\n",
              "humidity                                       0\n",
              "wind_speed                                     0\n",
              "pressure                                       0\n",
              "rain_1h                                        0\n",
              "rain_3h                                        0\n",
              "snow_3h                                        0\n",
              "clouds_all                                     0\n",
              "wind_deg                                       0\n",
              "weather_id                                     0\n",
              "weather_main                                   0\n",
              "weather_description                            0\n",
              "weather_icon                                   0\n",
              "dtype: int64"
            ]
          },
          "execution_count": 6,
          "metadata": {},
          "output_type": "execute_result"
        }
      ],
      "source": [
        "df.isnull().sum()"
      ]
    },
    {
      "cell_type": "code",
      "execution_count": null,
      "metadata": {
        "id": "BNh57_3p9QkM"
      },
      "outputs": [],
      "source": [
        "# GENERATING FEATURES"
      ]
    },
    {
      "cell_type": "code",
      "execution_count": null,
      "metadata": {
        "id": "_LFsk_5L1beM"
      },
      "outputs": [],
      "source": [
        "df['dt_iso'] = pd.to_datetime(df['dt_iso'], utc=True) #Handle timezone information\n",
        "df['date'] = df['dt_iso'].dt.date\n",
        "df['time'] = df['dt_iso'].dt.time"
      ]
    },
    {
      "cell_type": "code",
      "execution_count": null,
      "metadata": {
        "id": "i9BWpBE21g9C"
      },
      "outputs": [],
      "source": [
        "df['weekday'] = df['dt_iso'].dt.weekday #number format of weekday; 0 refers to Monday\n",
        "df['month'] = df['dt_iso'].dt.month\n",
        "df['year'] = df['dt_iso'].dt.year\n",
        "df['hour'] = df['dt_iso'].dt.hour"
      ]
    },
    {
      "cell_type": "code",
      "execution_count": null,
      "metadata": {
        "id": "ZKhFOgMP1mKK"
      },
      "outputs": [],
      "source": [
        "df['day_of_week_name'] = df['dt_iso'].dt.strftime('%A')  # %A for full weekday name"
      ]
    },
    {
      "cell_type": "code",
      "execution_count": null,
      "metadata": {
        "id": "M-tU7TbU1o8k"
      },
      "outputs": [],
      "source": [
        "for i in range(len(df)):\n",
        "    # Access the datetime object directly from the 'dt_iso' column\n",
        "    dt_iso_value = df.loc[i, 'dt_iso']\n",
        "    hour = dt_iso_value.hour\n",
        "    if ((hour > 8 and hour < 14) or (hour > 16 and hour < 21)):\n",
        "        df.loc[i, 'business hour'] = 2\n",
        "    elif (hour >= 14 and hour <= 16):\n",
        "        df.loc[i, 'business hour'] = 1\n",
        "    else:\n",
        "        df.loc[i, 'business hour'] = 0"
      ]
    },
    {
      "cell_type": "code",
      "execution_count": null,
      "metadata": {
        "id": "mvoO-nMb1rGy"
      },
      "outputs": [],
      "source": [
        "df = df.set_index('dt_iso')  # Set 'dt_iso' as index\n",
        "\n",
        "for i in range(len(df)):\n",
        "    position = df.index[i]\n",
        "    weekday = position.weekday()  # position variable accesses the weekday column of the record\n",
        "    if (weekday == 6):\n",
        "        df.loc[position, 'weekday'] = 2 #Sunday\n",
        "    elif (weekday == 5):\n",
        "        df.loc[position, 'weekday'] = 1 #Saturday\n",
        "    else:\n",
        "        df.loc[position, 'weekday'] = 0"
      ]
    },
    {
      "cell_type": "code",
      "execution_count": null,
      "metadata": {
        "id": "OuZORG6F1tzA"
      },
      "outputs": [],
      "source": [
        "df['generation coal all'] = df['generation fossil hard coal'] + df['generation fossil brown coal/lignite']"
      ]
    },
    {
      "cell_type": "code",
      "execution_count": null,
      "metadata": {
        "id": "pb5i72aQ1wfN"
      },
      "outputs": [],
      "source": [
        "# VISUALIZATION"
      ]
    },
    {
      "cell_type": "code",
      "execution_count": null,
      "metadata": {
        "colab": {
          "base_uri": "https://localhost:8080/",
          "height": 467
        },
        "id": "VoVo-XRs9VJ5",
        "outputId": "102a9dd7-a8e7-41d1-8c6b-a3811284d61e"
      },
      "outputs": [
        {
          "data": {
            "text/plain": [
              "<Axes: xlabel='day_of_week_name'>"
            ]
          },
          "execution_count": 13,
          "metadata": {},
          "output_type": "execute_result"
        },
        {
          "data": {
            "image/png": "[encoded data removed]",
            "text/plain": [
              "<Figure size 640x480 with 1 Axes>"
            ]
          },
          "metadata": {},
          "output_type": "display_data"
        }
      ],
      "source": [
        "df1 = df.groupby('day_of_week_name')['total load actual'].mean()\n",
        "df1.reset_index()\n",
        "df1.plot(kind='line', x='day_of_week_name', y='total load actual')\n",
        "#plot does not take the values of weekdays as categorical data"
      ]
    },
    {
      "cell_type": "code",
      "execution_count": null,
      "metadata": {
        "colab": {
          "base_uri": "https://localhost:8080/",
          "height": 466
        },
        "id": "MORLAiGb9d_4",
        "outputId": "3cb12fb9-48e8-4287-8276-1923de01852c"
      },
      "outputs": [
        {
          "data": {
            "text/plain": [
              "<Axes: xlabel='month'>"
            ]
          },
          "execution_count": 14,
          "metadata": {},
          "output_type": "execute_result"
        },
        {
          "data": {
            "image/png": "[encoded data removed]",
            "text/plain": [
              "<Figure size 640x480 with 1 Axes>"
            ]
          },
          "metadata": {},
          "output_type": "display_data"
        }
      ],
      "source": [
        "df2 = df.groupby('month')['total load actual'].mean()\n",
        "df2.reset_index()\n",
        "df2.plot(kind='line', x='month', y='total load actual')"
      ]
    },
    {
      "cell_type": "code",
      "execution_count": null,
      "metadata": {
        "colab": {
          "base_uri": "https://localhost:8080/",
          "height": 488
        },
        "id": "BtzUYmgD9g1x",
        "outputId": "f2968c54-f6d4-48c7-ee18-dda4d6bf89c2"
      },
      "outputs": [
        {
          "data": {
            "text/plain": [
              "<Axes: xlabel='year'>"
            ]
          },
          "execution_count": 15,
          "metadata": {},
          "output_type": "execute_result"
        },
        {
          "data": {
            "image/png": "[encoded data removed]",
            "text/plain": [
              "<Figure size 640x480 with 1 Axes>"
            ]
          },
          "metadata": {},
          "output_type": "display_data"
        }
      ],
      "source": [
        "df3 = df.groupby('year')['total load actual'].mean()\n",
        "df3.reset_index()\n",
        "df3.plot(kind='bar', x='year', y='total load actual')"
      ]
    },
    {
      "cell_type": "code",
      "execution_count": null,
      "metadata": {
        "id": "Likz1g3y9kuo"
      },
      "outputs": [],
      "source": [
        "# CORRELATION MATRIX"
      ]
    },
    {
      "cell_type": "code",
      "execution_count": null,
      "metadata": {
        "id": "mODQeQ1v16UB"
      },
      "outputs": [],
      "source": [
        "correlation_matrix = df[['price actual','year','temp', 'wind_speed', 'pressure', 'humidity', 'clouds_all', 'total load actual']].corr()"
      ]
    },
    {
      "cell_type": "code",
      "execution_count": null,
      "metadata": {
        "colab": {
          "base_uri": "https://localhost:8080/",
          "height": 552
        },
        "id": "NaHqbFiE2AeG",
        "outputId": "2a9edf23-3e24-4507-d3a1-ef7b085cac1f"
      },
      "outputs": [
        {
          "data": {
            "image/png": "[encoded data removed]",
            "text/plain": [
              "<Figure size 640x480 with 2 Axes>"
            ]
          },
          "metadata": {},
          "output_type": "display_data"
        }
      ],
      "source": [
        "import seaborn as sns\n",
        "import matplotlib.pyplot as plt\n",
        "sns.heatmap(correlation_matrix, annot=True, cmap='YlOrBr')\n",
        "plt.title(\"Correlation Heatmap\")\n",
        "plt.show()"
      ]
    },
    {
      "cell_type": "code",
      "execution_count": null,
      "metadata": {
        "colab": {
          "base_uri": "https://localhost:8080/",
          "height": 466
        },
        "id": "2m29K88Y90_Y",
        "outputId": "0a0ae2c7-d14a-4647-91de-6b1b0bfc2aa3"
      },
      "outputs": [
        {
          "data": {
            "text/plain": [
              "<Axes: xlabel='hour'>"
            ]
          },
          "execution_count": 18,
          "metadata": {},
          "output_type": "execute_result"
        },
        {
          "data": {
            "image/png": "[encoded data removed]",
            "text/plain": [
              "<Figure size 640x480 with 1 Axes>"
            ]
          },
          "metadata": {},
          "output_type": "display_data"
        }
      ],
      "source": [
        "df4=df.groupby('hour')['total load actual'].mean()\n",
        "df4.plot(kind='line', x='hour', y='total load actual')"
      ]
    },
    {
      "cell_type": "code",
      "execution_count": null,
      "metadata": {
        "id": "SzAl4O1592dd"
      },
      "outputs": [],
      "source": [
        "# PREPROCESSING"
      ]
    },
    {
      "cell_type": "code",
      "execution_count": null,
      "metadata": {
        "colab": {
          "base_uri": "https://localhost:8080/"
        },
        "id": "bLqr_Yqx2FCD",
        "outputId": "d48b023c-f72e-433d-ad8c-ff911cb3b9c3"
      },
      "outputs": [
        {
          "data": {
            "text/plain": [
              "(35064, 3)"
            ]
          },
          "execution_count": 19,
          "metadata": {},
          "output_type": "execute_result"
        }
      ],
      "source": [
        "from sklearn.preprocessing import OneHotEncoder\n",
        "oht=OneHotEncoder()\n",
        "data = oht.fit_transform(df[['weekday']])\n",
        "data.shape"
      ]
    },
    {
      "cell_type": "code",
      "execution_count": null,
      "metadata": {
        "colab": {
          "base_uri": "https://localhost:8080/"
        },
        "id": "YHUZESx12Nm2",
        "outputId": "d7728927-4656-48d6-dd93-7572543dbe19"
      },
      "outputs": [
        {
          "name": "stdout",
          "output_type": "stream",
          "text": [
            "Number of outliers in column 'generation biomass': 5\n",
            "Number of outliers in column 'generation fossil brown coal/lignite': 0\n",
            "Number of outliers in column 'generation fossil gas': 491\n",
            "Number of outliers in column 'generation fossil hard coal': 0\n",
            "Number of outliers in column 'generation fossil oil': 27\n",
            "Number of outliers in column 'generation hydro pumped storage consumption': 1005\n",
            "Number of outliers in column 'generation hydro run-of-river and poundage': 0\n",
            "Number of outliers in column 'generation hydro water reservoir': 194\n",
            "Number of outliers in column 'generation nuclear': 53\n",
            "Number of outliers in column 'generation other': 0\n",
            "Number of outliers in column 'generation other renewable': 7\n",
            "Number of outliers in column 'generation solar': 0\n",
            "Number of outliers in column 'generation waste': 106\n",
            "Number of outliers in column 'generation wind onshore': 113\n",
            "Number of outliers in column 'forecast solar day ahead': 0\n",
            "Number of outliers in column 'forecast wind onshore day ahead': 128\n",
            "Number of outliers in column 'total load forecast': 0\n",
            "Number of outliers in column 'total load actual': 0\n",
            "Number of outliers in column 'price day ahead': 329\n",
            "Number of outliers in column 'price actual': 234\n",
            "Number of outliers in column 'temp': 0\n",
            "Number of outliers in column 'temp_min': 0\n",
            "Number of outliers in column 'temp_max': 0\n",
            "Number of outliers in column 'humidity': 1\n",
            "Number of outliers in column 'wind_speed': 482\n",
            "Number of outliers in column 'pressure': 41\n",
            "Number of outliers in column 'rain_1h': 423\n",
            "Number of outliers in column 'rain_3h': 536\n",
            "Number of outliers in column 'snow_3h': 105\n",
            "Number of outliers in column 'clouds_all': 185\n",
            "Number of outliers in column 'wind_deg': 0\n",
            "Number of outliers in column 'weather_id': 490\n",
            "Number of outliers in column 'weekday': 0\n",
            "Number of outliers in column 'month': 0\n",
            "Number of outliers in column 'year': 0\n",
            "Number of outliers in column 'hour': 0\n",
            "Number of outliers in column 'business hour': 0\n",
            "Number of outliers in column 'generation coal all': 0\n"
          ]
        }
      ],
      "source": [
        "# FINDING OUTLIERS AND REMOVE THEM\n",
        "import scipy.stats as stats\n",
        "import numpy as np\n",
        "numerical_cols = df.select_dtypes(include=np.number).columns\n",
        "z_scores = stats.zscore(df[numerical_cols])\n",
        "column_names = numerical_cols\n",
        "outliers = np.where(np.abs(z_scores) > 3) #np.where function returns a tuple where each element is an array of indices where the condition is true along each axis.\n",
        "outliers_count = {}\n",
        "# Print the number of outliers for each column\n",
        "for i in range(z_scores.shape[1]):\n",
        "    num_outliers = len(outliers[0][outliers[1] == i])  # Count the number of rows for each column. 0 means row index, 1 means column index.\n",
        "    outliers_count[column_names[i]] = num_outliers\n",
        "    print(f\"Number of outliers in column '{column_names[i]}': {num_outliers}\")"
      ]
    },
    {
      "cell_type": "code",
      "execution_count": null,
      "metadata": {
        "colab": {
          "base_uri": "https://localhost:8080/"
        },
        "id": "0zlYwvic2yI5",
        "outputId": "c65b3d7d-837c-4c95-d282-a67bddcfc75d"
      },
      "outputs": [
        {
          "name": "stdout",
          "output_type": "stream",
          "text": [
            "19 ['generation biomass', 'generation fossil gas', 'generation fossil oil', 'generation hydro pumped storage consumption', 'generation hydro water reservoir', 'generation nuclear', 'generation other renewable', 'generation waste', 'generation wind onshore', 'forecast wind onshore day ahead', 'price day ahead', 'price actual', 'wind_speed', 'pressure', 'rain_1h', 'rain_3h', 'snow_3h', 'clouds_all', 'weather_id']\n"
          ]
        }
      ],
      "source": [
        "filtered_columns = [column for column, count in outliers_count.items() if count >= 5]\n",
        "print(len(filtered_columns),filtered_columns)"
      ]
    },
    {
      "cell_type": "code",
      "execution_count": null,
      "metadata": {
        "id": "rYsS_N0L20ha"
      },
      "outputs": [],
      "source": [
        "z_scores_df = pd.DataFrame(z_scores, columns=numerical_cols)# create a dataframe for z-scores"
      ]
    },
    {
      "cell_type": "code",
      "execution_count": null,
      "metadata": {
        "colab": {
          "base_uri": "https://localhost:8080/"
        },
        "id": "eq_15-df22-u",
        "outputId": "13dd14c9-910d-4478-bbf5-559ff98c68ed"
      },
      "outputs": [
        {
          "data": {
            "text/plain": [
              "4064"
            ]
          },
          "execution_count": 23,
          "metadata": {},
          "output_type": "execute_result"
        }
      ],
      "source": [
        "# Get the indices of rows that contain outliers\n",
        "outlier_indices = z_scores_df[(np.abs(z_scores_df) > 3).any(axis=1)].index\n",
        "len(outlier_indices) #pandas.core.indexes.datetimes.DatetimeIndex"
      ]
    },
    {
      "cell_type": "code",
      "execution_count": null,
      "metadata": {
        "id": "Du-6ycOo25gc"
      },
      "outputs": [],
      "source": [
        "df.drop(outlier_indices, inplace=True)"
      ]
    },
    {
      "cell_type": "code",
      "execution_count": null,
      "metadata": {
        "id": "UMeXq3Ee2_b7"
      },
      "outputs": [],
      "source": [
        "# MODELLING"
      ]
    },
    {
      "cell_type": "code",
      "execution_count": null,
      "metadata": {
        "id": "CyEa-prP-IYq"
      },
      "outputs": [],
      "source": [
        "# SIMPLE LINEAR REGRESSION FOR PRICE ACTUAL"
      ]
    },
    {
      "cell_type": "code",
      "execution_count": null,
      "metadata": {
        "id": "Rhix-9AK8s_q"
      },
      "outputs": [],
      "source": []
    },
    {
      "cell_type": "code",
      "execution_count": null,
      "metadata": {
        "id": "ctOBCgNd-Oz4"
      },
      "outputs": [],
      "source": [
        "# SIMPLE LINEAR REGRESSION FOR TOTAL LOAD ACTUAL"
      ]
    },
    {
      "cell_type": "code",
      "execution_count": null,
      "metadata": {
        "id": "e2jCmDkJ8tdz"
      },
      "outputs": [],
      "source": []
    },
    {
      "cell_type": "code",
      "execution_count": null,
      "metadata": {
        "id": "8r7IRpVt3BZE"
      },
      "outputs": [],
      "source": [
        "#Random Forest without tuning for price actual"
      ]
    },
    {
      "cell_type": "code",
      "execution_count": null,
      "metadata": {
        "colab": {
          "base_uri": "https://localhost:8080/"
        },
        "id": "_cVxgPEZ3FAw",
        "outputId": "0f1450dd-6573-4ab1-bdc2-6d75ccb5a854"
      },
      "outputs": [
        {
          "name": "stdout",
          "output_type": "stream",
          "text": [
            "Random Forest Regression - Adjusted R-squared: 0.31717738889291036\n",
            "Random Forest Regression - Root Mean Squared Error (RMSE): 10.987877716692635\n",
            "Random Forest Regression - Mean Squared Error: 120.73345671699056\n",
            "Random Forest Regression - R-squared: 0.3182788933470272\n",
            "Random Forest Regression - Mean Absolute Percentage Error: 0.16735411796725122\n"
          ]
        }
      ],
      "source": [
        "from sklearn.ensemble import RandomForestRegressor\n",
        "from sklearn.metrics import mean_squared_error, r2_score, mean_absolute_percentage_error\n",
        "from sklearn.model_selection import train_test_split\n",
        "\n",
        "# Features for predicting price\n",
        "X_price = df[['temp','humidity','wind_deg','pressure','temp_max','temp_min','rain_1h','rain_3h','clouds_all','snow_3h']]\n",
        "y_price = df['price actual']\n",
        "\n",
        "# Split the data\n",
        "X_price_train, X_price_test, y_price_train, y_price_test = train_test_split(X_price, y_price, test_size=0.2, random_state=42)\n",
        "\n",
        "# Create and fit the model\n",
        "rf_model_price = RandomForestRegressor(n_estimators=100, random_state=42)\n",
        "rf_model_price.fit(X_price_train, y_price_train)\n",
        "\n",
        "# Predict and evaluate\n",
        "y_pred_price = rf_model_price.predict(X_price_test)\n",
        "\n",
        "mse_rf = mean_squared_error(y_price_test, y_pred_price)\n",
        "rmse_rf = np.sqrt(mse_rf)\n",
        "r2_rf = r2_score(y_price_test, y_pred_price)\n",
        "mape_rf = mean_absolute_percentage_error(y_price_test, y_pred_price)\n",
        "\n",
        "# Calculate Adjusted R-squared\n",
        "n = len(y_price_test)  # number of observations\n",
        "p = X_price_test.shape[1]  # number of predictors\n",
        "adjusted_r2_rf = 1 - (1 - r2_rf) * (n - 1) / (n - p - 1)\n",
        "\n",
        "# Print results\n",
        "print(f'Random Forest Regression - Adjusted R-squared: {adjusted_r2_rf}')\n",
        "print(f'Random Forest Regression - Root Mean Squared Error (RMSE): {rmse_rf}')\n",
        "print(f'Random Forest Regression - Mean Squared Error: {mse_rf}')\n",
        "print(f'Random Forest Regression - R-squared: {r2_rf}')\n",
        "print(f'Random Forest Regression - Mean Absolute Percentage Error: {mape_rf}')"
      ]
    },
    {
      "cell_type": "code",
      "execution_count": null,
      "metadata": {
        "id": "nk98G59Q7zVh"
      },
      "outputs": [],
      "source": [
        "# FOR LOAD"
      ]
    },
    {
      "cell_type": "code",
      "execution_count": null,
      "metadata": {
        "colab": {
          "base_uri": "https://localhost:8080/"
        },
        "id": "l8HlkiAy3q-X",
        "outputId": "92622833-6c60-44c7-90dc-ccf80230ae5c"
      },
      "outputs": [
        {
          "name": "stdout",
          "output_type": "stream",
          "text": [
            "Random Forest Regression - Adjusted R-squared: 0.7529827448223851\n",
            "Random Forest Regression - Root Mean Squared Error (RMSE): 10.987877716692635\n",
            "Random Forest Regression - Mean Squared Error: 4942637.252765306\n",
            "Random Forest Regression - R-squared: 0.7533812240209294\n",
            "Random Forest Regression - Mean Absolute Percentage Error: 0.0598885602079321\n"
          ]
        }
      ],
      "source": [
        "# Features for predicting load\n",
        "X_Load = df[['rain_3h','clouds_all', 'price actual', 'generation biomass', 'generation hydro pumped storage consumption', 'generation wind onshore', 'generation fossil oil']]\n",
        "y_Load = df['total load actual']\n",
        "\n",
        "# Split the data\n",
        "X_Load_train, X_Load_test, y_Load_train, y_Load_test = train_test_split(X_Load, y_Load, test_size=0.2, random_state=42)\n",
        "\n",
        "# Create and fit the model\n",
        "rf_model_Load = RandomForestRegressor(n_estimators=100, random_state=42) # Changed variable name to rf_model_Load\n",
        "rf_model_Load.fit(X_Load_train, y_Load_train)\n",
        "\n",
        "# Predict and evaluate\n",
        "y_pred_Load = rf_model_Load.predict(X_Load_test)\n",
        "rmse_rf = np.sqrt(mse_rf)\n",
        "mse_rf = mean_squared_error(y_Load_test, y_pred_Load)\n",
        "r2_rf = r2_score(y_Load_test, y_pred_Load) # Use y_pred_Load instead of y_pred_price\n",
        "mape_rf = mean_absolute_percentage_error(y_Load_test, y_pred_Load)\n",
        "\n",
        "# Calculate Adjusted R-squared\n",
        "n = len(y_price_test)  # number of observations\n",
        "p = X_price_test.shape[1]  # number of predictors\n",
        "adjusted_r2_rf = 1 - (1 - r2_rf) * (n - 1) / (n - p - 1)\n",
        "\n",
        "# Print results\n",
        "print(f'Random Forest Regression - Adjusted R-squared: {adjusted_r2_rf}')\n",
        "print(f'Random Forest Regression - Root Mean Squared Error (RMSE): {rmse_rf}')\n",
        "print(f'Random Forest Regression - Mean Squared Error: {mse_rf}')\n",
        "print(f'Random Forest Regression - R-squared: {r2_rf}')\n",
        "print(f'Random Forest Regression - Mean Absolute Percentage Error: {mape_rf}')"
      ]
    },
    {
      "cell_type": "code",
      "execution_count": null,
      "metadata": {
        "id": "uor092Y-746E"
      },
      "outputs": [],
      "source": [
        "# RANDOM FOREST WITH PARAMETER TUNING FOR PRICE"
      ]
    },
    {
      "cell_type": "code",
      "execution_count": null,
      "metadata": {
        "id": "IUAZZinZ33BL"
      },
      "outputs": [],
      "source": [
        "# Features for predicting price\n",
        "X_price = df[['temp', 'humidity', 'wind_deg', 'pressure', 'temp_max', 'temp_min', 'rain_1h', 'rain_3h', 'clouds_all']]\n",
        "y_price = df['price actual']"
      ]
    },
    {
      "cell_type": "code",
      "execution_count": null,
      "metadata": {
        "id": "IdmCocaz37jI"
      },
      "outputs": [],
      "source": [
        "# Define the parameter distribution for RandomizedSearchCV\n",
        "from random import randint\n",
        "from scipy.stats import randint as randint\n",
        "param_dist = {\n",
        "    'n_estimators': randint(50, 250),             # Number of trees in the forest\n",
        "    'max_depth': [None] + list(randint(5, 15).rvs(3)),  # Maximum depth of the trees\n",
        "    'min_samples_split': randint(2, 10),          # Minimum number of samples required to split an internal node\n",
        "    'min_samples_leaf': randint(1, 5),           # Minimum number of samples required to be at a leaf node\n",
        "    'bootstrap': [True, False]                   # Whether bootstrap samples are used when building trees\n",
        "}"
      ]
    },
    {
      "cell_type": "code",
      "execution_count": null,
      "metadata": {
        "id": "BhLI6Q1L3_X2"
      },
      "outputs": [],
      "source": [
        "from sklearn.ensemble import RandomForestRegressor\n",
        "from sklearn.model_selection import RandomizedSearchCV\n",
        "rf_model_price = RandomForestRegressor(random_state=42)\n",
        "\n",
        "# Initialize RandomizedSearchCV\n",
        "random_search = RandomizedSearchCV(estimator=rf_model_price, param_distributions=param_dist,\n",
        "                                   n_iter=50, cv=3, scoring='neg_mean_squared_error',\n",
        "                                   random_state=42, n_jobs=-1, verbose=2)"
      ]
    },
    {
      "cell_type": "code",
      "execution_count": 31,
      "metadata": {
        "colab": {
          "base_uri": "https://localhost:8080/",
          "height": 134
        },
        "id": "WFCOIjf64CLi",
        "outputId": "e133bb3d-e7bf-404c-9e54-6ccdd0b4df12"
      },
      "outputs": [
        {
          "output_type": "stream",
          "name": "stdout",
          "text": [
            "Fitting 3 folds for each of 50 candidates, totalling 150 fits\n"
          ]
        },
        {
          "output_type": "execute_result",
          "data": {
            "text/plain": [
              "RandomizedSearchCV(cv=3, estimator=RandomForestRegressor(random_state=42),\n",
              "                   n_iter=50, n_jobs=-1,\n",
              "                   param_distributions={'bootstrap': [True, False],\n",
              "                                        'max_depth': [None, 14, 12, 11],\n",
              "                                        'min_samples_leaf': <scipy.stats._distn_infrastructure.rv_discrete_frozen object at 0x788e9f091c00>,\n",
              "                                        'min_samples_split': <scipy.stats._distn_infrastructure.rv_discrete_frozen object at 0x788e9f092350>,\n",
              "                                        'n_estimators': <scipy.stats._distn_infrastructure.rv_discrete_frozen object at 0x788e9f091f90>},\n",
              "                   random_state=42, scoring='neg_mean_squared_error',\n",
              "                   verbose=2)"
            ],
            "text/html": [
              "<style>#sk-container-id-2 {color: black;background-color: white;}#sk-container-id-2 pre{padding: 0;}#sk-container-id-2 div.sk-toggleable {background-color: white;}#sk-container-id-2 label.sk-toggleable__label {cursor: pointer;display: block;width: 100%;margin-bottom: 0;padding: 0.3em;box-sizing: border-box;text-align: center;}#sk-container-id-2 label.sk-toggleable__label-arrow:before {content: \"▸\";float: left;margin-right: 0.25em;color: #696969;}#sk-container-id-2 label.sk-toggleable__label-arrow:hover:before {color: black;}#sk-container-id-2 div.sk-estimator:hover label.sk-toggleable__label-arrow:before {color: black;}#sk-container-id-2 div.sk-toggleable__content {max-height: 0;max-width: 0;overflow: hidden;text-align: left;background-color: #f0f8ff;}#sk-container-id-2 div.sk-toggleable__content pre {margin: 0.2em;color: black;border-radius: 0.25em;background-color: #f0f8ff;}#sk-container-id-2 input.sk-toggleable__control:checked~div.sk-toggleable__content {max-height: 200px;max-width: 100%;overflow: auto;}#sk-container-id-2 input.sk-toggleable__control:checked~label.sk-toggleable__label-arrow:before {content: \"▾\";}#sk-container-id-2 div.sk-estimator input.sk-toggleable__control:checked~label.sk-toggleable__label {background-color: #d4ebff;}#sk-container-id-2 div.sk-label input.sk-toggleable__control:checked~label.sk-toggleable__label {background-color: #d4ebff;}#sk-container-id-2 input.sk-hidden--visually {border: 0;clip: rect(1px 1px 1px 1px);clip: rect(1px, 1px, 1px, 1px);height: 1px;margin: -1px;overflow: hidden;padding: 0;position: absolute;width: 1px;}#sk-container-id-2 div.sk-estimator {font-family: monospace;background-color: #f0f8ff;border: 1px dotted black;border-radius: 0.25em;box-sizing: border-box;margin-bottom: 0.5em;}#sk-container-id-2 div.sk-estimator:hover {background-color: #d4ebff;}#sk-container-id-2 div.sk-parallel-item::after {content: \"\";width: 100%;border-bottom: 1px solid gray;flex-grow: 1;}#sk-container-id-2 div.sk-label:hover label.sk-toggleable__label {background-color: #d4ebff;}#sk-container-id-2 div.sk-serial::before {content: \"\";position: absolute;border-left: 1px solid gray;box-sizing: border-box;top: 0;bottom: 0;left: 50%;z-index: 0;}#sk-container-id-2 div.sk-serial {display: flex;flex-direction: column;align-items: center;background-color: white;padding-right: 0.2em;padding-left: 0.2em;position: relative;}#sk-container-id-2 div.sk-item {position: relative;z-index: 1;}#sk-container-id-2 div.sk-parallel {display: flex;align-items: stretch;justify-content: center;background-color: white;position: relative;}#sk-container-id-2 div.sk-item::before, #sk-container-id-2 div.sk-parallel-item::before {content: \"\";position: absolute;border-left: 1px solid gray;box-sizing: border-box;top: 0;bottom: 0;left: 50%;z-index: -1;}#sk-container-id-2 div.sk-parallel-item {display: flex;flex-direction: column;z-index: 1;position: relative;background-color: white;}#sk-container-id-2 div.sk-parallel-item:first-child::after {align-self: flex-end;width: 50%;}#sk-container-id-2 div.sk-parallel-item:last-child::after {align-self: flex-start;width: 50%;}#sk-container-id-2 div.sk-parallel-item:only-child::after {width: 0;}#sk-container-id-2 div.sk-dashed-wrapped {border: 1px dashed gray;margin: 0 0.4em 0.5em 0.4em;box-sizing: border-box;padding-bottom: 0.4em;background-color: white;}#sk-container-id-2 div.sk-label label {font-family: monospace;font-weight: bold;display: inline-block;line-height: 1.2em;}#sk-container-id-2 div.sk-label-container {text-align: center;}#sk-container-id-2 div.sk-container {/* jupyter's `normalize.less` sets `[hidden] { display: none; }` but bootstrap.min.css set `[hidden] { display: none !important; }` so we also need the `!important` here to be able to override the default hidden behavior on the sphinx rendered scikit-learn.org. See: https://github.com/scikit-learn/scikit-learn/issues/21755 */display: inline-block !important;position: relative;}#sk-container-id-2 div.sk-text-repr-fallback {display: none;}</style><div id=\"sk-container-id-2\" class=\"sk-top-container\"><div class=\"sk-text-repr-fallback\"><pre>RandomizedSearchCV(cv=3, estimator=RandomForestRegressor(random_state=42),\n",
              "                   n_iter=50, n_jobs=-1,\n",
              "                   param_distributions={&#x27;bootstrap&#x27;: [True, False],\n",
              "                                        &#x27;max_depth&#x27;: [None, 14, 12, 11],\n",
              "                                        &#x27;min_samples_leaf&#x27;: &lt;scipy.stats._distn_infrastructure.rv_discrete_frozen object at 0x788e9f091c00&gt;,\n",
              "                                        &#x27;min_samples_split&#x27;: &lt;scipy.stats._distn_infrastructure.rv_discrete_frozen object at 0x788e9f092350&gt;,\n",
              "                                        &#x27;n_estimators&#x27;: &lt;scipy.stats._distn_infrastructure.rv_discrete_frozen object at 0x788e9f091f90&gt;},\n",
              "                   random_state=42, scoring=&#x27;neg_mean_squared_error&#x27;,\n",
              "                   verbose=2)</pre><b>In a Jupyter environment, please rerun this cell to show the HTML representation or trust the notebook. <br />On GitHub, the HTML representation is unable to render, please try loading this page with nbviewer.org.</b></div><div class=\"sk-container\" hidden><div class=\"sk-item sk-dashed-wrapped\"><div class=\"sk-label-container\"><div class=\"sk-label sk-toggleable\"><input class=\"sk-toggleable__control sk-hidden--visually\" id=\"sk-estimator-id-4\" type=\"checkbox\" ><label for=\"sk-estimator-id-4\" class=\"sk-toggleable__label sk-toggleable__label-arrow\">RandomizedSearchCV</label><div class=\"sk-toggleable__content\"><pre>RandomizedSearchCV(cv=3, estimator=RandomForestRegressor(random_state=42),\n",
              "                   n_iter=50, n_jobs=-1,\n",
              "                   param_distributions={&#x27;bootstrap&#x27;: [True, False],\n",
              "                                        &#x27;max_depth&#x27;: [None, 14, 12, 11],\n",
              "                                        &#x27;min_samples_leaf&#x27;: &lt;scipy.stats._distn_infrastructure.rv_discrete_frozen object at 0x788e9f091c00&gt;,\n",
              "                                        &#x27;min_samples_split&#x27;: &lt;scipy.stats._distn_infrastructure.rv_discrete_frozen object at 0x788e9f092350&gt;,\n",
              "                                        &#x27;n_estimators&#x27;: &lt;scipy.stats._distn_infrastructure.rv_discrete_frozen object at 0x788e9f091f90&gt;},\n",
              "                   random_state=42, scoring=&#x27;neg_mean_squared_error&#x27;,\n",
              "                   verbose=2)</pre></div></div></div><div class=\"sk-parallel\"><div class=\"sk-parallel-item\"><div class=\"sk-item\"><div class=\"sk-label-container\"><div class=\"sk-label sk-toggleable\"><input class=\"sk-toggleable__control sk-hidden--visually\" id=\"sk-estimator-id-5\" type=\"checkbox\" ><label for=\"sk-estimator-id-5\" class=\"sk-toggleable__label sk-toggleable__label-arrow\">estimator: RandomForestRegressor</label><div class=\"sk-toggleable__content\"><pre>RandomForestRegressor(random_state=42)</pre></div></div></div><div class=\"sk-serial\"><div class=\"sk-item\"><div class=\"sk-estimator sk-toggleable\"><input class=\"sk-toggleable__control sk-hidden--visually\" id=\"sk-estimator-id-6\" type=\"checkbox\" ><label for=\"sk-estimator-id-6\" class=\"sk-toggleable__label sk-toggleable__label-arrow\">RandomForestRegressor</label><div class=\"sk-toggleable__content\"><pre>RandomForestRegressor(random_state=42)</pre></div></div></div></div></div></div></div></div></div></div>"
            ]
          },
          "metadata": {},
          "execution_count": 31
        }
      ],
      "source": [
        "random_search.fit(X_price_train, y_price_train)"
      ]
    },
    {
      "cell_type": "code",
      "execution_count": 32,
      "metadata": {
        "colab": {
          "base_uri": "https://localhost:8080/"
        },
        "id": "UDUMtGHFAsJH",
        "outputId": "1de86385-4527-4f2e-9c1a-cc4c391cd23e"
      },
      "outputs": [
        {
          "output_type": "stream",
          "name": "stdout",
          "text": [
            "Best parameters found:  {'bootstrap': True, 'max_depth': None, 'min_samples_leaf': 2, 'min_samples_split': 8, 'n_estimators': 191}\n",
            "Best score found:  -127.2793510789138\n",
            "Random Forest Regression - Mean Squared Error: 122.1342271408356\n",
            "Random Forest Regression - Adjusted R-squared: 0.3092551629881759\n",
            "Random Forest Regression - Root Mean Squared Error (RMSE): 11.051435523986719\n",
            "Random Forest Regression - R-squared: 0.31036944728727545\n",
            "Random Forest Regression - Mean Absolute Percentage Error: 0.16929655257306755\n"
          ]
        }
      ],
      "source": [
        "# Print the best parameters and the corresponding score\n",
        "print(\"Best parameters found: \", random_search.best_params_)\n",
        "print(\"Best score found: \", random_search.best_score_)\n",
        "\n",
        "# Evaluate the model with the best parameters on the test set\n",
        "best_rf_model_price = random_search.best_estimator_\n",
        "y_pred_price = best_rf_model_price.predict(X_price_test)\n",
        "\n",
        "# Evaluate and print results\n",
        "mse_rf = mean_squared_error(y_price_test, y_pred_price)\n",
        "rmse_rf = np.sqrt(mse_rf)\n",
        "r2_rf = r2_score(y_price_test, y_pred_price)\n",
        "mape_rf = mean_absolute_percentage_error(y_price_test, y_pred_price)\n",
        "\n",
        "# Calculate Adjusted R-squared\n",
        "n = len(y_price_test)  # number of observations\n",
        "p = X_price_test.shape[1]  # number of predictors\n",
        "adjusted_r2_rf = 1 - (1 - r2_rf) * (n - 1) / (n - p - 1)\n",
        "\n",
        "print(f'Random Forest Regression - Mean Squared Error: {mse_rf}')\n",
        "print(f'Random Forest Regression - Adjusted R-squared: {adjusted_r2_rf}')\n",
        "print(f'Random Forest Regression - Root Mean Squared Error (RMSE): {rmse_rf}')\n",
        "print(f'Random Forest Regression - R-squared: {r2_rf}')\n",
        "print(f'Random Forest Regression - Mean Absolute Percentage Error: {mape_rf}')"
      ]
    },
    {
      "cell_type": "code",
      "execution_count": null,
      "metadata": {
        "id": "o-3PmKx68DWe"
      },
      "outputs": [],
      "source": [
        "# FOR LOAD ACTUAL"
      ]
    },
    {
      "cell_type": "code",
      "execution_count": null,
      "metadata": {
        "colab": {
          "base_uri": "https://localhost:8080/"
        },
        "id": "QBlA_Py7BK6J",
        "outputId": "07305420-e589-49b5-b61f-ae8781dfdfae"
      },
      "outputs": [
        {
          "name": "stdout",
          "output_type": "stream",
          "text": [
            "Fitting 3 folds for each of 10 candidates, totalling 30 fits\n",
            "Best parameters found:  {'bootstrap': True, 'max_depth': None, 'min_samples_leaf': 3, 'min_samples_split': 3, 'n_estimators': 132}\n",
            "Best score found:  -4236745.9147369815\n",
            "Random Forest Regression - Mean Squared Error: 3942500.019272552\n",
            "Random Forest Regression - Adjusted R-squared: 0.8029982467535087\n",
            "Random Forest Regression - Root Mean Squared Error (RMSE): 1985.5729700196243\n",
            "Random Forest Regression - R-squared: 0.8032842631721598\n",
            "Random Forest Regression - Mean Absolute Percentage Error: 0.05253830058946332\n"
          ]
        }
      ],
      "source": [
        "from sklearn.ensemble import RandomForestRegressor\n",
        "from sklearn.model_selection import RandomizedSearchCV, train_test_split\n",
        "from sklearn.metrics import mean_squared_error, r2_score, mean_absolute_percentage_error\n",
        "import pandas as pd\n",
        "from scipy.stats import randint\n",
        "\n",
        "\n",
        "# Features for predicting load\n",
        "X_Load = df[['temp', 'humidity', 'rain_3h', 'clouds_all', 'price actual',\n",
        "             'generation biomass', 'generation hydro pumped storage consumption',\n",
        "             'generation wind onshore', 'generation fossil oil']]\n",
        "y_Load = df['total load actual']\n",
        "\n",
        "# Split the data\n",
        "X_Load_train, X_Load_test, y_Load_train, y_Load_test = train_test_split(X_Load, y_Load, test_size=0.2, random_state=42)\n",
        "\n",
        "# Define a reduced parameter distribution for RandomizedSearchCV\n",
        "param_dist = {\n",
        "    'n_estimators': randint(50, 250),             # Number of trees in the forest\n",
        "    'max_depth': [None] + list(randint(5, 15).rvs(3)),  # Maximum depth of the trees\n",
        "    'min_samples_split': randint(2, 10),          # Minimum number of samples required to split an internal node\n",
        "    'min_samples_leaf': randint(1, 5),           # Minimum number of samples required to be at a leaf node\n",
        "    'bootstrap': [True, False]                   # Whether bootstrap samples are used when building trees\n",
        "}\n",
        "\n",
        "# Initialize the RandomForestRegressor\n",
        "rf_model_Load = RandomForestRegressor(random_state=42)\n",
        "\n",
        "# Initialize RandomizedSearchCV with reduced parameter distribution\n",
        "random_search_Load = RandomizedSearchCV(estimator=rf_model_Load, param_distributions=param_dist,\n",
        "                                        n_iter=10, cv=3, scoring='neg_mean_squared_error',\n",
        "                                        random_state=42, n_jobs=-1, verbose=2)\n",
        "\n",
        "# Fit RandomizedSearchCV\n",
        "random_search_Load.fit(X_Load_train, y_Load_train)\n",
        "\n",
        "# Print the best parameters and the corresponding score\n",
        "print(\"Best parameters found: \", random_search_Load.best_params_)\n",
        "print(\"Best score found: \", random_search_Load.best_score_)\n",
        "\n",
        "# Evaluate the model with the best parameters on the test set\n",
        "best_rf_model_Load = random_search_Load.best_estimator_\n",
        "y_pred_Load = best_rf_model_Load.predict(X_Load_test)\n",
        "\n",
        "# Evaluate and print results\n",
        "mse_rf = mean_squared_error(y_Load_test, y_pred_Load)\n",
        "rmse_rf = np.sqrt(mse_rf)\n",
        "r2_rf = r2_score(y_Load_test, y_pred_Load)\n",
        "mape_rf = mean_absolute_percentage_error(y_Load_test, y_pred_Load)\n",
        "\n",
        "\n",
        "\n",
        "print(f'Random Forest Regression - Mean Squared Error: {mse_rf}')\n",
        "print(f'Random Forest Regression - Adjusted R-squared: {adjusted_r2_rf}')\n",
        "print(f'Random Forest Regression - Root Mean Squared Error (RMSE): {rmse_rf}')\n",
        "print(f'Random Forest Regression - R-squared: {r2_rf}')\n",
        "print(f'Random Forest Regression - Mean Absolute Percentage Error: {mape_rf}')\n"
      ]
    },
    {
      "cell_type": "code",
      "execution_count": null,
      "metadata": {
        "id": "eMTdYqX8J4fj"
      },
      "outputs": [],
      "source": [
        "# GRADIENT BOOSTING MODEL WITH TUNING  FOR LOAD ACTUAL"
      ]
    },
    {
      "cell_type": "code",
      "execution_count": null,
      "metadata": {
        "colab": {
          "base_uri": "https://localhost:8080/"
        },
        "id": "SGA4aeuZKFrh",
        "outputId": "1e6dddb2-0b03-407c-a3f8-4b016a61ba3f"
      },
      "outputs": [
        {
          "name": "stdout",
          "output_type": "stream",
          "text": [
            "Fitting 3 folds for each of 10 candidates, totalling 30 fits\n",
            "Best parameters found:  {'learning_rate': 0.1, 'max_depth': 9, 'min_samples_leaf': 2, 'min_samples_split': 5, 'n_estimators': 109}\n",
            "Best score found:  -4064151.0610602214\n",
            "Gradient Boosting Regression - Mean Squared Error (MSE): 3811661.712086775\n",
            "Gradient Boosting Regression - Root Mean Squared Error (RMSE): 1952.3477436375865\n",
            "Gradient Boosting Regression - R-squared (R^2): 0.8098125964321572\n",
            "Gradient Boosting Regression - Mean Absolute Percentage Error (MAPE): 5.187967588711101%\n",
            "Gradient Boosting Regression - Adjusted R-squared (Adjusted R^2): 0.809536071935855\n"
          ]
        }
      ],
      "source": [
        "from sklearn.ensemble import GradientBoostingRegressor\n",
        "\n",
        "from sklearn.model_selection import RandomizedSearchCV, train_test_split\n",
        "from sklearn.metrics import mean_squared_error, r2_score\n",
        "import pandas as pd\n",
        "import numpy as np\n",
        "from scipy.stats import randint\n",
        "\n",
        "\n",
        "# Features for predicting load\n",
        "X_Load = df[['temp', 'humidity', 'rain_3h', 'clouds_all', 'price actual',\n",
        "             'generation biomass', 'generation hydro pumped storage consumption',\n",
        "             'generation wind onshore', 'generation fossil oil']]\n",
        "y_Load = df['total load actual']\n",
        "\n",
        "# Split the data\n",
        "X_Load_train, X_Load_test, y_Load_train, y_Load_test = train_test_split(X_Load, y_Load, test_size=0.2, random_state=42)\n",
        "\n",
        "# Define a reduced parameter distribution for RandomizedSearchCV\n",
        "param_dist = {\n",
        "    'n_estimators': randint(50, 300),             # Number of boosting stages\n",
        "    'learning_rate': [0.01, 0.05, 0.1, 0.2, 0.3],  # Learning rate shrinks the contribution of each estimator\n",
        "    'max_depth': randint(3, 10),                   # Maximum depth of the individual trees\n",
        "    'min_samples_split': randint(2, 15),            # Minimum number of samples required to split an internal node\n",
        "    'min_samples_leaf': randint(1, 10)              # Minimum number of samples required to be at a leaf node\n",
        "}\n",
        "\n",
        "# Initialize the GradientBoostingRegressor\n",
        "gb_model_Load = GradientBoostingRegressor(random_state=42)\n",
        "\n",
        "# Initialize RandomizedSearchCV with reduced parameter distribution\n",
        "random_search_Load = RandomizedSearchCV(estimator=gb_model_Load, param_distributions=param_dist,\n",
        "                                        n_iter=10, cv=3, scoring='neg_mean_squared_error',\n",
        "                                        random_state=42, n_jobs=-1, verbose=2)\n",
        "\n",
        "# Fit RandomizedSearchCV\n",
        "random_search_Load.fit(X_Load_train, y_Load_train)\n",
        "\n",
        "# Print the best parameters and the corresponding score\n",
        "print(\"Best parameters found: \", random_search_Load.best_params_)\n",
        "print(\"Best score found: \", random_search_Load.best_score_)\n",
        "\n",
        "# Evaluate the model with the best parameters on the test set\n",
        "best_gb_model_Load = random_search_Load.best_estimator_\n",
        "y_pred_Load = best_gb_model_Load.predict(X_Load_test)\n",
        "\n",
        "# Calculate evaluation metrics\n",
        "mse_gb = mean_squared_error(y_Load_test, y_pred_Load)\n",
        "rmse_gb = np.sqrt(mse_gb)\n",
        "r2_gb = r2_score(y_Load_test, y_pred_Load)\n",
        "\n",
        "def mean_absolute_percentage_error(y_true, y_pred):\n",
        "    return np.mean(np.abs((y_true - y_pred) / y_true)) * 100\n",
        "\n",
        "mape_gb = mean_absolute_percentage_error(y_Load_test, y_pred_Load)\n",
        "\n",
        "# Calculate adjusted R-squared\n",
        "def adjusted_r2_score(y_true, y_pred, n_features):\n",
        "    r2 = r2_score(y_true, y_pred)\n",
        "    adjusted_r2 = 1 - (1 - r2) * ((len(y_true) - 1) / (len(y_true) - n_features - 1))\n",
        "    return adjusted_r2\n",
        "\n",
        "adjusted_r2_gb = adjusted_r2_score(y_Load_test, y_pred_Load, X_Load.shape[1])\n",
        "\n",
        "# Print evaluation results\n",
        "print(f'Gradient Boosting Regression - Mean Squared Error (MSE): {mse_gb}')\n",
        "print(f'Gradient Boosting Regression - Root Mean Squared Error (RMSE): {rmse_gb}')\n",
        "print(f'Gradient Boosting Regression - R-squared (R^2): {r2_gb}')\n",
        "print(f'Gradient Boosting Regression - Mean Absolute Percentage Error (MAPE): {mape_gb}%')\n",
        "print(f'Gradient Boosting Regression - Adjusted R-squared (Adjusted R^2): {adjusted_r2_gb}')\n"
      ]
    },
    {
      "cell_type": "code",
      "execution_count": null,
      "metadata": {
        "id": "RJfDWMTv8Mjs"
      },
      "outputs": [],
      "source": [
        "# GB FOR PRICE ACTUAL"
      ]
    },
    {
      "cell_type": "code",
      "execution_count": null,
      "metadata": {
        "colab": {
          "base_uri": "https://localhost:8080/"
        },
        "id": "1E_vUAL0L_vH",
        "outputId": "ec35f53e-fa57-4431-f586-264d2e2410fe"
      },
      "outputs": [
        {
          "name": "stdout",
          "output_type": "stream",
          "text": [
            "Fitting 3 folds for each of 10 candidates, totalling 30 fits\n",
            "Best parameters found:  {'learning_rate': 0.1, 'max_depth': 9, 'min_samples_leaf': 2, 'min_samples_split': 5, 'n_estimators': 109}\n",
            "Best score found:  -131.61296143831834\n",
            "Gradient Boosting Regression for Price Actual - Mean Squared Error (MSE): 126.22579722130908\n",
            "Gradient Boosting Regression for Price Actual - Root Mean Squared Error (RMSE): 11.235025465984004\n",
            "Gradient Boosting Regression for Price Actual - R-squared (R^2): 0.28726640891617217\n",
            "Gradient Boosting Regression for Price Actual - Mean Absolute Percentage Error (MAPE): 17.36934800133787%\n",
            "Gradient Boosting Regression for Price Actual - Adjusted R-squared (Adjusted R^2): 0.28623012421185\n"
          ]
        }
      ],
      "source": [
        "\n",
        "# Features for predicting price\n",
        "X_price = df[['temp', 'humidity', 'wind_deg', 'pressure', 'temp_max', 'temp_min', 'rain_1h', 'rain_3h', 'clouds_all']]\n",
        "y_price = df['price actual']\n",
        "\n",
        "# Split the data\n",
        "X_price_train, X_price_test, y_price_train, y_price_test = train_test_split(X_price, y_price, test_size=0.2, random_state=42)\n",
        "\n",
        "# Define a reduced parameter distribution for RandomizedSearchCV\n",
        "param_dist = {\n",
        "    'n_estimators': randint(50, 250),             # Number of boosting stages\n",
        "    'learning_rate': [0.01, 0.05, 0.1, 0.2, 0.3],  # Learning rate shrinks the contribution of each estimator\n",
        "    'max_depth': randint(3, 10),                   # Maximum depth of the individual trees\n",
        "    'min_samples_split': randint(2, 10),            # Minimum number of samples required to split an internal node\n",
        "    'min_samples_leaf': randint(1, 5)              # Minimum number of samples required to be at a leaf node\n",
        "}\n",
        "\n",
        "# Initialize the GradientBoostingRegressor\n",
        "gb_model_price = GradientBoostingRegressor(random_state=42)\n",
        "\n",
        "# Initialize RandomizedSearchCV with reduced parameter distribution\n",
        "random_search_price = RandomizedSearchCV(estimator=gb_model_price, param_distributions=param_dist,\n",
        "                                        n_iter=10, cv=3, scoring='neg_mean_squared_error',\n",
        "                                        random_state=42, n_jobs=-1, verbose=2)\n",
        "\n",
        "# Fit RandomizedSearchCV\n",
        "random_search_price.fit(X_price_train, y_price_train)\n",
        "\n",
        "# Print the best parameters and the corresponding score\n",
        "print(\"Best parameters found: \", random_search_price.best_params_)\n",
        "print(\"Best score found: \", random_search_price.best_score_)\n",
        "\n",
        "# Evaluate the model with the best parameters on the test set\n",
        "best_gb_model_price = random_search_price.best_estimator_\n",
        "y_pred_price = best_gb_model_price.predict(X_price_test)\n",
        "\n",
        "# Calculate evaluation metrics\n",
        "mse_price = mean_squared_error(y_price_test, y_pred_price)\n",
        "rmse_price = np.sqrt(mse_price)\n",
        "r2_price = r2_score(y_price_test, y_pred_price)\n",
        "\n",
        "def mean_absolute_percentage_error(y_true, y_pred):\n",
        "    return np.mean(np.abs((y_true - y_pred) / y_true)) * 100\n",
        "\n",
        "mape_price = mean_absolute_percentage_error(y_price_test, y_pred_price)\n",
        "\n",
        "# Calculate adjusted R-squared\n",
        "def adjusted_r2_score(y_true, y_pred, n_features):\n",
        "    r2 = r2_score(y_true, y_pred)\n",
        "    adjusted_r2 = 1 - (1 - r2) * ((len(y_true) - 1) / (len(y_true) - n_features - 1))\n",
        "    return adjusted_r2\n",
        "\n",
        "adjusted_r2_price = adjusted_r2_score(y_price_test, y_pred_price, X_price.shape[1])\n",
        "\n",
        "# Print evaluation results\n",
        "print(f'Gradient Boosting Regression for Price Actual - Mean Squared Error (MSE): {mse_price}')\n",
        "print(f'Gradient Boosting Regression for Price Actual - Root Mean Squared Error (RMSE): {rmse_price}')\n",
        "print(f'Gradient Boosting Regression for Price Actual - R-squared (R^2): {r2_price}')\n",
        "print(f'Gradient Boosting Regression for Price Actual - Mean Absolute Percentage Error (MAPE): {mape_price}%')\n",
        "print(f'Gradient Boosting Regression for Price Actual - Adjusted R-squared (Adjusted R^2): {adjusted_r2_price}')\n"
      ]
    },
    {
      "cell_type": "code",
      "execution_count": null,
      "metadata": {
        "id": "c84SOS0HPc09"
      },
      "outputs": [],
      "source": [
        "# LSTM MODEL"
      ]
    },
    {
      "cell_type": "code",
      "execution_count": null,
      "metadata": {
        "colab": {
          "base_uri": "https://localhost:8080/"
        },
        "id": "WddxwhQBPewu",
        "outputId": "d4152c02-be54-4e9e-cd40-7a494d671d8c"
      },
      "outputs": [
        {
          "name": "stdout",
          "output_type": "stream",
          "text": [
            "X_train shape: (24792, 10, 1)\n",
            "y_train shape: (24792, 1)\n"
          ]
        }
      ],
      "source": [
        "import numpy as np\n",
        "from sklearn.preprocessing import MinMaxScaler\n",
        "\n",
        "# Assuming df is your DataFrame with 'price actual' as your target variable\n",
        "# Replace with your actual data loading and preprocessing steps\n",
        "\n",
        "# Scale the data\n",
        "scaler = MinMaxScaler(feature_range=(0, 1))\n",
        "scaled_data = scaler.fit_transform(df[['price actual']])\n",
        "\n",
        "# Create sequences\n",
        "def create_sequences(data, seq_length):\n",
        "    X, y = [], []\n",
        "    for i in range(len(data) - seq_length):\n",
        "        X.append(data[i:i + seq_length])\n",
        "        y.append(data[i + seq_length])\n",
        "    return np.array(X), np.array(y)\n",
        "\n",
        "# Define sequence length (number of time steps to look back)\n",
        "seq_length = 10\n",
        "X, y = create_sequences(scaled_data, seq_length)\n",
        "\n",
        "# Split into train and test sets\n",
        "train_size = int(len(X) * 0.8)\n",
        "X_train, X_test = X[:train_size], X[train_size:]\n",
        "y_train, y_test = y[:train_size], y[train_size:]\n",
        "\n",
        "# Reshape data to fit LSTM input shape (samples, time steps, features)\n",
        "X_train = np.reshape(X_train, (X_train.shape[0], X_train.shape[1], 1))\n",
        "X_test = np.reshape(X_test, (X_test.shape[0], X_test.shape[1], 1))\n",
        "\n",
        "print(f'X_train shape: {X_train.shape}')\n",
        "print(f'y_train shape: {y_train.shape}')\n"
      ]
    },
    {
      "cell_type": "code",
      "execution_count": null,
      "metadata": {
        "colab": {
          "base_uri": "https://localhost:8080/"
        },
        "id": "WdUyn0q5Ph8y",
        "outputId": "f3a0a3c1-83a0-4490-8fa8-7a43f06e0a8d"
      },
      "outputs": [
        {
          "name": "stdout",
          "output_type": "stream",
          "text": [
            "Model: \"sequential_3\"\n",
            "_________________________________________________________________\n",
            " Layer (type)                Output Shape              Param #   \n",
            "=================================================================\n",
            " lstm (LSTM)                 (None, 50)                10400     \n",
            "                                                                 \n",
            " dense (Dense)               (None, 1)                 51        \n",
            "                                                                 \n",
            "=================================================================\n",
            "Total params: 10451 (40.82 KB)\n",
            "Trainable params: 10451 (40.82 KB)\n",
            "Non-trainable params: 0 (0.00 Byte)\n",
            "_________________________________________________________________\n"
          ]
        }
      ],
      "source": [
        "import tensorflow as tf\n",
        "from tensorflow.keras.models import Sequential\n",
        "from tensorflow.keras.layers import LSTM, Dense\n",
        "\n",
        "# Initialize LSTM model\n",
        "model = Sequential()\n",
        "\n",
        "# Add LSTM layer with 50 units\n",
        "model.add(LSTM(units=50, return_sequences=False, input_shape=(X_train.shape[1], 1)))\n",
        "\n",
        "# Add output layer\n",
        "model.add(Dense(units=1))\n",
        "\n",
        "# Compile the model\n",
        "model.compile(optimizer='adam', loss='mean_squared_error')\n",
        "\n",
        "# Print model summary\n",
        "model.summary()\n"
      ]
    },
    {
      "cell_type": "code",
      "execution_count": null,
      "metadata": {
        "colab": {
          "base_uri": "https://localhost:8080/"
        },
        "id": "AZnkbLCvPnNI",
        "outputId": "8c32e584-e262-4bf1-8274-a5f28a18c11c"
      },
      "outputs": [
        {
          "name": "stdout",
          "output_type": "stream",
          "text": [
            "Epoch 1/10\n",
            "775/775 [==============================] - 7s 5ms/step - loss: 0.0092 - val_loss: 0.0021\n",
            "Epoch 2/10\n",
            "775/775 [==============================] - 4s 5ms/step - loss: 0.0023 - val_loss: 0.0011\n",
            "Epoch 3/10\n",
            "775/775 [==============================] - 4s 5ms/step - loss: 0.0018 - val_loss: 0.0014\n",
            "Epoch 4/10\n",
            "775/775 [==============================] - 4s 5ms/step - loss: 0.0017 - val_loss: 9.6945e-04\n",
            "Epoch 5/10\n",
            "775/775 [==============================] - 4s 5ms/step - loss: 0.0017 - val_loss: 9.6159e-04\n",
            "Epoch 6/10\n",
            "775/775 [==============================] - 4s 5ms/step - loss: 0.0017 - val_loss: 0.0012\n",
            "Epoch 7/10\n",
            "775/775 [==============================] - 4s 5ms/step - loss: 0.0016 - val_loss: 0.0012\n",
            "Epoch 8/10\n",
            "775/775 [==============================] - 3s 4ms/step - loss: 0.0016 - val_loss: 0.0012\n",
            "Epoch 9/10\n",
            "775/775 [==============================] - 4s 6ms/step - loss: 0.0016 - val_loss: 9.6419e-04\n",
            "Epoch 10/10\n",
            "775/775 [==============================] - 4s 5ms/step - loss: 0.0016 - val_loss: 9.7193e-04\n"
          ]
        },
        {
          "data": {
            "text/plain": [
              "<keras.src.callbacks.History at 0x791919ee7fa0>"
            ]
          },
          "execution_count": 28,
          "metadata": {},
          "output_type": "execute_result"
        }
      ],
      "source": [
        "# Fit the model\n",
        "model.fit(X_train, y_train, epochs=10, batch_size=32, verbose=1, validation_data=(X_test, y_test))\n"
      ]
    },
    {
      "cell_type": "code",
      "execution_count": null,
      "metadata": {
        "colab": {
          "base_uri": "https://localhost:8080/"
        },
        "id": "zb5aLOesPzG6",
        "outputId": "e603cb21-746f-4dc2-a460-84a8e17b57d5"
      },
      "outputs": [
        {
          "name": "stdout",
          "output_type": "stream",
          "text": [
            "194/194 [==============================] - 1s 3ms/step\n",
            "LSTM - Mean Squared Error (MSE): 7.043703279391984\n",
            "LSTM - Root Mean Squared Error (RMSE): 2.6539976035015527\n",
            "LSTM - R-squared (R^2): 0.9298832016895352\n",
            "LSTM - Mean Absolute Percentage Error (MAPE): 17.722091228281037%\n"
          ]
        }
      ],
      "source": [
        "# Predict on test data\n",
        "y_pred = model.predict(X_test)\n",
        "\n",
        "# Inverse transform the predictions and true values to get actual prices\n",
        "y_pred_actual = scaler.inverse_transform(y_pred)\n",
        "y_test_actual = scaler.inverse_transform(y_test.reshape(-1, 1))\n",
        "\n",
        "# Calculate evaluation metrics (MSE, RMSE, MAPE, R^2, Adjusted R^2)\n",
        "from sklearn.metrics import mean_squared_error, r2_score, mean_absolute_percentage_error\n",
        "\n",
        "mse_lstm = mean_squared_error(y_test_actual, y_pred_actual)\n",
        "rmse_lstm = np.sqrt(mse_lstm)\n",
        "r2_lstm = r2_score(y_test_actual, y_pred_actual.flatten())\n",
        "\n",
        "def mean_absolute_percentage_error(y_true, y_pred):\n",
        "    return np.mean(np.abs((y_true - y_pred) / y_true)) * 100\n",
        "\n",
        "mape_lstm = mean_absolute_percentage_error(y_test_actual, y_pred_actual.flatten())\n",
        "\n",
        "# Print evaluation results\n",
        "print(f'LSTM - Mean Squared Error (MSE): {mse_lstm}')\n",
        "print(f'LSTM - Root Mean Squared Error (RMSE): {rmse_lstm}')\n",
        "print(f'LSTM - R-squared (R^2): {r2_lstm}')\n",
        "print(f'LSTM - Mean Absolute Percentage Error (MAPE): {mape_lstm}%')\n"
      ]
    }
  ],
  "metadata": {
    "accelerator": "GPU",
    "colab": {
      "gpuType": "T4",
      "provenance": []
    },
    "kernelspec": {
      "display_name": "Python 3",
      "name": "python3"
    },
    "language_info": {
      "name": "python"
    }
  },
  "nbformat": 4,
  "nbformat_minor": 0
}